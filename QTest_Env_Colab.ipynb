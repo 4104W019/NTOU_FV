{
  "nbformat": 4,
  "nbformat_minor": 0,
  "metadata": {
    "colab": {
      "name": "QTest_Env_Colab.ipynb",
      "provenance": [],
      "collapsed_sections": [],
      "include_colab_link": true
    },
    "kernelspec": {
      "name": "python3",
      "display_name": "Python 3"
    },
    "language_info": {
      "name": "python"
    }
  },
  "cells": [
    {
      "cell_type": "markdown",
      "metadata": {
        "id": "view-in-github",
        "colab_type": "text"
      },
      "source": [
        "<a href=\"https://colab.research.google.com/github/4104W019/NTOU_FV/blob/develop/QTest_Env_Colab.ipynb\" target=\"_parent\"><img src=\"https://colab.research.google.com/assets/colab-badge.svg\" alt=\"Open In Colab\"/></a>"
      ]
    },
    {
      "cell_type": "code",
      "metadata": {
        "colab": {
          "base_uri": "https://localhost:8080/"
        },
        "id": "Hp8xYxhHe3up",
        "outputId": "34d7f5bc-b0be-41f6-a713-ea90b1b4946a"
      },
      "source": [
        "# install require tools\n",
        "!apt-get update\n",
        "!apt-get install tree"
      ],
      "execution_count": null,
      "outputs": [
        {
          "output_type": "stream",
          "name": "stdout",
          "text": [
            "Get:1 https://cloud.r-project.org/bin/linux/ubuntu bionic-cran40/ InRelease [3,626 B]\n",
            "Ign:2 https://developer.download.nvidia.com/compute/cuda/repos/ubuntu1804/x86_64  InRelease\n",
            "Get:3 https://cloud.r-project.org/bin/linux/ubuntu bionic-cran40/ Packages [73.0 kB]\n",
            "Ign:4 https://developer.download.nvidia.com/compute/machine-learning/repos/ubuntu1804/x86_64  InRelease\n",
            "Get:5 https://developer.download.nvidia.com/compute/cuda/repos/ubuntu1804/x86_64  Release [696 B]\n",
            "Hit:6 https://developer.download.nvidia.com/compute/machine-learning/repos/ubuntu1804/x86_64  Release\n",
            "Get:7 https://developer.download.nvidia.com/compute/cuda/repos/ubuntu1804/x86_64  Release.gpg [836 B]\n",
            "Get:8 http://security.ubuntu.com/ubuntu bionic-security InRelease [88.7 kB]\n",
            "Get:9 http://ppa.launchpad.net/c2d4u.team/c2d4u4.0+/ubuntu bionic InRelease [15.9 kB]\n",
            "Hit:11 http://archive.ubuntu.com/ubuntu bionic InRelease\n",
            "Get:12 https://developer.download.nvidia.com/compute/cuda/repos/ubuntu1804/x86_64  Packages [808 kB]\n",
            "Get:13 http://archive.ubuntu.com/ubuntu bionic-updates InRelease [88.7 kB]\n",
            "Hit:14 http://ppa.launchpad.net/cran/libgit2/ubuntu bionic InRelease\n",
            "Get:15 http://archive.ubuntu.com/ubuntu bionic-backports InRelease [74.6 kB]\n",
            "Hit:16 http://ppa.launchpad.net/deadsnakes/ppa/ubuntu bionic InRelease\n",
            "Get:17 http://security.ubuntu.com/ubuntu bionic-security/restricted amd64 Packages [665 kB]\n",
            "Get:18 http://archive.ubuntu.com/ubuntu bionic-updates/main amd64 Packages [2,864 kB]\n",
            "Hit:19 http://ppa.launchpad.net/graphics-drivers/ppa/ubuntu bionic InRelease\n",
            "Get:20 http://ppa.launchpad.net/c2d4u.team/c2d4u4.0+/ubuntu bionic/main Sources [1,813 kB]\n",
            "Get:21 http://security.ubuntu.com/ubuntu bionic-security/main amd64 Packages [2,426 kB]\n",
            "Get:22 http://security.ubuntu.com/ubuntu bionic-security/multiverse amd64 Packages [26.8 kB]\n",
            "Get:23 http://security.ubuntu.com/ubuntu bionic-security/universe amd64 Packages [1,439 kB]\n",
            "Get:24 http://archive.ubuntu.com/ubuntu bionic-updates/restricted amd64 Packages [697 kB]\n",
            "Get:25 http://archive.ubuntu.com/ubuntu bionic-updates/multiverse amd64 Packages [34.5 kB]\n",
            "Get:26 http://archive.ubuntu.com/ubuntu bionic-updates/universe amd64 Packages [2,218 kB]\n",
            "Get:27 http://ppa.launchpad.net/c2d4u.team/c2d4u4.0+/ubuntu bionic/main amd64 Packages [928 kB]\n",
            "Fetched 14.3 MB in 7s (2,114 kB/s)\n",
            "Reading package lists... Done\n",
            "Reading package lists... Done\n",
            "Building dependency tree       \n",
            "Reading state information... Done\n",
            "The following NEW packages will be installed:\n",
            "  tree\n",
            "0 upgraded, 1 newly installed, 0 to remove and 55 not upgraded.\n",
            "Need to get 40.7 kB of archives.\n",
            "After this operation, 105 kB of additional disk space will be used.\n",
            "Get:1 http://archive.ubuntu.com/ubuntu bionic/universe amd64 tree amd64 1.7.0-5 [40.7 kB]\n",
            "Fetched 40.7 kB in 1s (41.4 kB/s)\n",
            "Selecting previously unselected package tree.\n",
            "(Reading database ... 155219 files and directories currently installed.)\n",
            "Preparing to unpack .../tree_1.7.0-5_amd64.deb ...\n",
            "Unpacking tree (1.7.0-5) ...\n",
            "Setting up tree (1.7.0-5) ...\n",
            "Processing triggers for man-db (2.8.3-2ubuntu0.1) ...\n"
          ]
        }
      ]
    },
    {
      "cell_type": "code",
      "metadata": {
        "colab": {
          "base_uri": "https://localhost:8080/"
        },
        "id": "A6sj2Ggwpf_e",
        "outputId": "007778ce-89c3-441f-e444-b5889325fd8e"
      },
      "source": [
        "# install gcovr lib\n",
        "!pip3 install gcovr"
      ],
      "execution_count": null,
      "outputs": [
        {
          "output_type": "stream",
          "name": "stdout",
          "text": [
            "Collecting gcovr\n",
            "  Downloading gcovr-5.0-py2.py3-none-any.whl (57 kB)\n",
            "\u001b[?25l\r\u001b[K     |█████▊                          | 10 kB 23.3 MB/s eta 0:00:01\r\u001b[K     |███████████▌                    | 20 kB 9.3 MB/s eta 0:00:01\r\u001b[K     |█████████████████▏              | 30 kB 7.9 MB/s eta 0:00:01\r\u001b[K     |███████████████████████         | 40 kB 7.2 MB/s eta 0:00:01\r\u001b[K     |████████████████████████████▋   | 51 kB 3.9 MB/s eta 0:00:01\r\u001b[K     |████████████████████████████████| 57 kB 2.4 MB/s \n",
            "\u001b[?25hRequirement already satisfied: pygments in /usr/local/lib/python3.7/dist-packages (from gcovr) (2.6.1)\n",
            "Requirement already satisfied: jinja2 in /usr/local/lib/python3.7/dist-packages (from gcovr) (2.11.3)\n",
            "Requirement already satisfied: lxml in /usr/local/lib/python3.7/dist-packages (from gcovr) (4.2.6)\n",
            "Requirement already satisfied: MarkupSafe>=0.23 in /usr/local/lib/python3.7/dist-packages (from jinja2->gcovr) (2.0.1)\n",
            "Installing collected packages: gcovr\n",
            "Successfully installed gcovr-5.0\n"
          ]
        }
      ]
    },
    {
      "cell_type": "code",
      "metadata": {
        "colab": {
          "base_uri": "https://localhost:8080/"
        },
        "id": "GZWKR3BPcf2T",
        "outputId": "11e8a282-54ff-4f17-c61e-d044b8f342f7"
      },
      "source": [
        "#check QT environment\n",
        "!qmake -v"
      ],
      "execution_count": null,
      "outputs": [
        {
          "output_type": "stream",
          "name": "stdout",
          "text": [
            "QMake version 3.1\n",
            "Using Qt version 5.9.5 in /usr/lib/x86_64-linux-gnu\n"
          ]
        }
      ]
    },
    {
      "cell_type": "code",
      "metadata": {
        "colab": {
          "base_uri": "https://localhost:8080/"
        },
        "id": "gCHapqd7bolJ",
        "outputId": "89bf4dd2-efdf-4734-dda9-37f307ef200a"
      },
      "source": [
        "# clone Homework source code\n",
        "!git clone https://github.com/4104W019/NTOU_FV\n",
        "\n",
        "# check dir\n",
        "!tree NTOU_FV"
      ],
      "execution_count": null,
      "outputs": [
        {
          "output_type": "stream",
          "name": "stdout",
          "text": [
            "Cloning into 'NTOU_FV'...\n",
            "remote: Enumerating objects: 214, done.\u001b[K\n",
            "remote: Counting objects: 100% (214/214), done.\u001b[K\n",
            "remote: Compressing objects: 100% (148/148), done.\u001b[K\n",
            "remote: Total 214 (delta 83), reused 191 (delta 60), pack-reused 0\u001b[K\n",
            "Receiving objects: 100% (214/214), 1.34 MiB | 6.64 MiB/s, done.\n",
            "Resolving deltas: 100% (83/83), done.\n",
            "NTOU_FV\n",
            "├── docker\n",
            "│   ├── docker_build.sh\n",
            "│   ├── Dockerfile\n",
            "│   └── docker_run.sh\n",
            "├── Homework\n",
            "│   ├── Homework.pro\n",
            "│   ├── HW1\n",
            "│   │   ├── linecoverage.cpp\n",
            "│   │   └── linecoverage.h\n",
            "│   ├── HW2\n",
            "│   │   ├── edgecoverage.cpp\n",
            "│   │   ├── edgecoverage.h\n",
            "│   │   ├── edgepaircoverage.cpp\n",
            "│   │   ├── GraphCoverageReport.md\n",
            "│   │   └── pics\n",
            "│   │       └── CoverageReport.png\n",
            "│   ├── HW3\n",
            "│   │   ├── Doc\n",
            "│   │   │   └── readme.md\n",
            "│   │   ├── stresstesting.cpp\n",
            "│   │   └── stresstesting.h\n",
            "│   └── tst_formalverification.cpp\n",
            "└── QTestHowTo\n",
            "    ├── hw1_simpleC\n",
            "    │   ├── Makefile\n",
            "    │   ├── result\n",
            "    │   │   ├── amber.png\n",
            "    │   │   ├── emerald.png\n",
            "    │   │   ├── gcov.css\n",
            "    │   │   ├── glass.png\n",
            "    │   │   ├── hw1_simpleC\n",
            "    │   │   │   ├── index.html\n",
            "    │   │   │   ├── index-sort-f.html\n",
            "    │   │   │   ├── index-sort-l.html\n",
            "    │   │   │   ├── test.c.func.html\n",
            "    │   │   │   ├── test.c.func-sort-c.html\n",
            "    │   │   │   └── test.c.gcov.html\n",
            "    │   │   ├── index.html\n",
            "    │   │   ├── index-sort-f.html\n",
            "    │   │   ├── index-sort-l.html\n",
            "    │   │   ├── ruby.png\n",
            "    │   │   ├── snow.png\n",
            "    │   │   ├── test\n",
            "    │   │   │   ├── index.html\n",
            "    │   │   │   ├── index-sort-f.html\n",
            "    │   │   │   ├── index-sort-l.html\n",
            "    │   │   │   ├── test.c.func.html\n",
            "    │   │   │   ├── test.c.func-sort-c.html\n",
            "    │   │   │   └── test.c.gcov.html\n",
            "    │   │   └── updown.png\n",
            "    │   ├── run.sh\n",
            "    │   ├── test\n",
            "    │   ├── test.c\n",
            "    │   ├── test.c.gcov\n",
            "    │   ├── test.gcda\n",
            "    │   ├── test.gcno\n",
            "    │   └── test.info\n",
            "    ├── LineCoverage\n",
            "    │   ├── gcovr.cfg\n",
            "    │   ├── LineCoverage.pro\n",
            "    │   └── tst_linecoveragetest.cpp\n",
            "    ├── pics\n",
            "    │   ├── 2021-10-18-19-10-16.png\n",
            "    │   ├── 2021-10-18-19-21-34.png\n",
            "    │   ├── 2021-10-18-19-22-21.png\n",
            "    │   ├── 2021-10-18-19-24-07.png\n",
            "    │   ├── 2021-10-18-19-26-37.png\n",
            "    │   ├── 2021-10-18-19-31-59.png\n",
            "    │   ├── 2021-10-18-19-33-13.png\n",
            "    │   ├── 2021-10-18-20-04-52.png\n",
            "    │   └── GraphCoverage.png\n",
            "    └── Readme.md\n",
            "\n",
            "14 directories, 58 files\n"
          ]
        }
      ]
    },
    {
      "cell_type": "code",
      "metadata": {
        "colab": {
          "base_uri": "https://localhost:8080/"
        },
        "id": "ad4Rh5ZHfSa7",
        "outputId": "747c578a-0335-4bba-9455-796242bf17bc"
      },
      "source": [
        "# go to Homework dir\n",
        "%cd NTOU_FV/Homework\n",
        "\n",
        "# list file inside NTOU_FV/Homework\n",
        "!tree"
      ],
      "execution_count": null,
      "outputs": [
        {
          "output_type": "stream",
          "name": "stdout",
          "text": [
            "/content/NTOU_FV/Homework\n",
            ".\n",
            "├── Homework.pro\n",
            "├── HW1\n",
            "│   ├── linecoverage.cpp\n",
            "│   └── linecoverage.h\n",
            "├── HW2\n",
            "│   ├── edgecoverage.cpp\n",
            "│   ├── edgecoverage.h\n",
            "│   ├── edgepaircoverage.cpp\n",
            "│   ├── GraphCoverageReport.md\n",
            "│   └── pics\n",
            "│       └── CoverageReport.png\n",
            "├── HW3\n",
            "│   ├── Doc\n",
            "│   │   └── readme.md\n",
            "│   ├── stresstesting.cpp\n",
            "│   └── stresstesting.h\n",
            "└── tst_formalverification.cpp\n",
            "\n",
            "5 directories, 12 files\n"
          ]
        }
      ]
    },
    {
      "cell_type": "code",
      "metadata": {
        "colab": {
          "base_uri": "https://localhost:8080/"
        },
        "id": "A4Br6FOcfx2V",
        "outputId": "b7a7f80a-ad55-4021-dba6-e5bc2f7fdcf2"
      },
      "source": [
        "# use qmake to build Homework\n",
        "\n",
        "print('create build dir\\n')\n",
        "# create build dir\n",
        "%cd \"/content/NTOU_FV/Homework\"\n",
        "%rm -rf build\n",
        "%mkdir build\n",
        "%cd build\n",
        "%pwd\n",
        "print('\\n\\n')\n",
        "\n",
        "\n",
        "print('create Makefile\\n')\n",
        "# run qmake to create makefile of Homework.pro\n",
        "# **** must add \"CONFIG+=debug\" to get corrected gcovr report ****\n",
        "!qmake CONFIG+=debug ../Homework.pro\n",
        "%ls\n",
        "print('\\n\\n')\n",
        "\n",
        "\n",
        "print('compile source code\\n')\n",
        "# compile source code to binary\n",
        "!make\n",
        "print('\\n\\n')\n",
        "\n",
        "print('list compiled dir')\n",
        "%ls\n",
        "print('\\n\\n')\n",
        "\n"
      ],
      "execution_count": null,
      "outputs": [
        {
          "output_type": "stream",
          "name": "stdout",
          "text": [
            "create build dir\n",
            "\n",
            "/content/NTOU_FV/Homework\n",
            "/content/NTOU_FV/Homework/build\n",
            "\n",
            "\n",
            "\n",
            "create Makefile\n",
            "\n",
            "Info: creating stash file /content/NTOU_FV/Homework/build/.qmake.stash\n",
            "Makefile  \u001b[0m\u001b[01;32mtarget_wrapper.sh\u001b[0m*\n",
            "\n",
            "\n",
            "\n",
            "compile source code\n",
            "\n",
            "g++ -pipe -fprofile-arcs -ftest-coverage -g -Wall -W -dM -E -o moc_predefs.h /usr/lib/x86_64-linux-gnu/qt5/mkspecs/features/data/dummy.cpp\n",
            "/usr/lib/qt5/bin/moc -DQT_TESTLIB_LIB -DQT_CORE_LIB -DQT_TESTCASE_BUILDDIR='\"/content/NTOU_FV/Homework/build\"' --include ./moc_predefs.h -I/usr/lib/x86_64-linux-gnu/qt5/mkspecs/linux-g++ -I/content/NTOU_FV/Homework -I/usr/include/x86_64-linux-gnu/qt5 -I/usr/include/x86_64-linux-gnu/qt5/QtTest -I/usr/include/x86_64-linux-gnu/qt5/QtCore -I. -I/usr/include/c++/7 -I/usr/include/x86_64-linux-gnu/c++/7 -I/usr/include/c++/7/backward -I/usr/lib/gcc/x86_64-linux-gnu/7/include -I/usr/local/include -I/usr/lib/gcc/x86_64-linux-gnu/7/include-fixed -I/usr/include/x86_64-linux-gnu -I/usr/include ../tst_formalverification.cpp -o tst_formalverification.moc\n",
            "g++ -c -pipe -fprofile-arcs -ftest-coverage -g -Wall -W -D_REENTRANT -fPIC -DQT_TESTLIB_LIB -DQT_CORE_LIB -DQT_TESTCASE_BUILDDIR='\"/content/NTOU_FV/Homework/build\"' -I../../Homework -I. -isystem /usr/include/x86_64-linux-gnu/qt5 -isystem /usr/include/x86_64-linux-gnu/qt5/QtTest -isystem /usr/include/x86_64-linux-gnu/qt5/QtCore -I. -I/usr/lib/x86_64-linux-gnu/qt5/mkspecs/linux-g++ -o tst_formalverification.o ../tst_formalverification.cpp\n",
            "g++ -c -pipe -fprofile-arcs -ftest-coverage -g -Wall -W -D_REENTRANT -fPIC -DQT_TESTLIB_LIB -DQT_CORE_LIB -DQT_TESTCASE_BUILDDIR='\"/content/NTOU_FV/Homework/build\"' -I../../Homework -I. -isystem /usr/include/x86_64-linux-gnu/qt5 -isystem /usr/include/x86_64-linux-gnu/qt5/QtTest -isystem /usr/include/x86_64-linux-gnu/qt5/QtCore -I. -I/usr/lib/x86_64-linux-gnu/qt5/mkspecs/linux-g++ -o linecoverage.o ../HW1/linecoverage.cpp\n",
            "g++ -c -pipe -fprofile-arcs -ftest-coverage -g -Wall -W -D_REENTRANT -fPIC -DQT_TESTLIB_LIB -DQT_CORE_LIB -DQT_TESTCASE_BUILDDIR='\"/content/NTOU_FV/Homework/build\"' -I../../Homework -I. -isystem /usr/include/x86_64-linux-gnu/qt5 -isystem /usr/include/x86_64-linux-gnu/qt5/QtTest -isystem /usr/include/x86_64-linux-gnu/qt5/QtCore -I. -I/usr/lib/x86_64-linux-gnu/qt5/mkspecs/linux-g++ -o edgecoverage.o ../HW2/edgecoverage.cpp\n",
            "g++ -c -pipe -fprofile-arcs -ftest-coverage -g -Wall -W -D_REENTRANT -fPIC -DQT_TESTLIB_LIB -DQT_CORE_LIB -DQT_TESTCASE_BUILDDIR='\"/content/NTOU_FV/Homework/build\"' -I../../Homework -I. -isystem /usr/include/x86_64-linux-gnu/qt5 -isystem /usr/include/x86_64-linux-gnu/qt5/QtTest -isystem /usr/include/x86_64-linux-gnu/qt5/QtCore -I. -I/usr/lib/x86_64-linux-gnu/qt5/mkspecs/linux-g++ -o edgepaircoverage.o ../HW2/edgepaircoverage.cpp\n",
            "g++ -c -pipe -fprofile-arcs -ftest-coverage -g -Wall -W -D_REENTRANT -fPIC -DQT_TESTLIB_LIB -DQT_CORE_LIB -DQT_TESTCASE_BUILDDIR='\"/content/NTOU_FV/Homework/build\"' -I../../Homework -I. -isystem /usr/include/x86_64-linux-gnu/qt5 -isystem /usr/include/x86_64-linux-gnu/qt5/QtTest -isystem /usr/include/x86_64-linux-gnu/qt5/QtCore -I. -I/usr/lib/x86_64-linux-gnu/qt5/mkspecs/linux-g++ -o stresstesting.o ../HW3/stresstesting.cpp\n",
            "\u001b[01m\u001b[K../HW3/stresstesting.cpp:\u001b[m\u001b[K In member function ‘\u001b[01m\u001b[Kint StressTesting::testStressTesting(int)\u001b[m\u001b[K’:\n",
            "\u001b[01m\u001b[K../HW3/stresstesting.cpp:4:42:\u001b[m\u001b[K \u001b[01;35m\u001b[Kwarning: \u001b[m\u001b[Kunused parameter ‘\u001b[01m\u001b[Kinput\u001b[m\u001b[K’ [\u001b[01;35m\u001b[K-Wunused-parameter\u001b[m\u001b[K]\n",
            " int StressTesting::testStressTesting(int \u001b[01;35m\u001b[Kinput\u001b[m\u001b[K)\n",
            "                                          \u001b[01;35m\u001b[K^~~~~\u001b[m\u001b[K\n",
            "g++ -fprofile-arcs -ftest-coverage -o Homework tst_formalverification.o linecoverage.o edgecoverage.o edgepaircoverage.o stresstesting.o   -lgcov -lQt5Test -lQt5Core -lpthread \n",
            "\n",
            "\n",
            "\n",
            "list compiled dir\n",
            "edgecoverage.gcno      linecoverage.gcno   stresstesting.o\n",
            "edgecoverage.o         linecoverage.o      \u001b[0m\u001b[01;32mtarget_wrapper.sh\u001b[0m*\n",
            "edgepaircoverage.gcno  Makefile            tst_formalverification.gcno\n",
            "edgepaircoverage.o     moc_predefs.h       tst_formalverification.moc\n",
            "\u001b[01;32mHomework\u001b[0m*              stresstesting.gcno  tst_formalverification.o\n",
            "\n",
            "\n",
            "\n"
          ]
        }
      ]
    },
    {
      "cell_type": "code",
      "metadata": {
        "colab": {
          "base_uri": "https://localhost:8080/"
        },
        "id": "_XUdWIiWkk_q",
        "outputId": "51524553-e666-4199-8ee4-3d0a533e4221"
      },
      "source": [
        "# run Homework\n",
        "!./Homework"
      ],
      "execution_count": null,
      "outputs": [
        {
          "output_type": "stream",
          "name": "stdout",
          "text": [
            "********* Start testing of FormalVerification *********\n",
            "Config: Using QtTest library 5.9.5, Qt 5.9.5 (x86_64-little_endian-lp64 shared (dynamic) release build; by GCC 7.5.0)\n",
            "PASS   : FormalVerification::initTestCase()\n",
            "PASS   : FormalVerification::test_case1(17)\n",
            "PASS   : FormalVerification::test_case1(9)\n",
            "PASS   : FormalVerification::test_case2(-3)\n",
            "PASS   : FormalVerification::test_case2(0)\n",
            "PASS   : FormalVerification::test_case2(5)\n",
            "PASS   : FormalVerification::test_case22(11)\n",
            "PASS   : FormalVerification::test_case22(5)\n",
            "PASS   : FormalVerification::test_case22(0)\n",
            "PASS   : FormalVerification::cleanupTestCase()\n",
            "Totals: 10 passed, 0 failed, 0 skipped, 0 blacklisted, 1ms\n",
            "********* Finished testing of FormalVerification *********\n"
          ]
        }
      ]
    },
    {
      "cell_type": "code",
      "metadata": {
        "colab": {
          "base_uri": "https://localhost:8080/"
        },
        "id": "dxkQzB4Qd7WW",
        "outputId": "be9efe79-4e61-4a16-9db4-3ad1dc546a93"
      },
      "source": [
        "%ls"
      ],
      "execution_count": null,
      "outputs": [
        {
          "output_type": "stream",
          "name": "stdout",
          "text": [
            "edgecoverage.gcda      linecoverage.gcda   stresstesting.o\n",
            "edgecoverage.gcno      linecoverage.gcno   \u001b[0m\u001b[01;32mtarget_wrapper.sh\u001b[0m*\n",
            "edgecoverage.o         linecoverage.o      tst_formalverification.gcda\n",
            "edgepaircoverage.gcda  Makefile            tst_formalverification.gcno\n",
            "edgepaircoverage.gcno  moc_predefs.h       tst_formalverification.moc\n",
            "edgepaircoverage.o     stresstesting.gcda  tst_formalverification.o\n",
            "\u001b[01;32mHomework\u001b[0m*              stresstesting.gcno\n"
          ]
        }
      ]
    },
    {
      "cell_type": "code",
      "metadata": {
        "id": "BdeXMfWvdpt1"
      },
      "source": [
        ""
      ],
      "execution_count": null,
      "outputs": []
    },
    {
      "cell_type": "code",
      "metadata": {
        "colab": {
          "base_uri": "https://localhost:8080/"
        },
        "id": "dvjmQAkrpNZQ",
        "outputId": "0e16e2d7-d5e6-4cf9-950d-8dd26a7ebca9"
      },
      "source": [
        "# create gcovr report\n",
        "%rm -rf gcovr_report\n",
        "%mkdir gcovr_report\n",
        "!gcovr -r ../ -f ../HW1/ -f ../HW2/ --html --html-details -o gcovr_report/test_coverage.html\n",
        "\n",
        "print('list report dir\\n')\n",
        "%ls gcovr_report/\n",
        "print('\\n\\n')\n",
        "\n",
        "from datetime import datetime\n",
        "import pytz\n",
        "# create current date and time\n",
        "tw = pytz.timezone('Asia/Taipei')\n",
        "now = datetime.now().astimezone(tw).strftime(\"%Y%m%d%H%M%S\")\n",
        "report_filename = 'gcovr_report_' + now + '.zip'\n",
        "\n",
        "!echo $report_filename\n",
        "\n",
        "# create zip file of gcovr_report\n",
        "print('zip the report dir\\n')\n",
        "!zip -r $report_filename gcovr_report/\n",
        "print('\\n\\n')"
      ],
      "execution_count": null,
      "outputs": [
        {
          "output_type": "stream",
          "name": "stdout",
          "text": [
            "list report dir\n",
            "\n",
            "test_coverage.css\n",
            "test_coverage.edgecoverage.cpp.ddfad0876e75c756007eca41217430c2.html\n",
            "test_coverage.edgecoverage.h.97d985dc60d46cb658d11ad34e32c99a.html\n",
            "test_coverage.edgepaircoverage.cpp.bdcc10f206142a0b848cbe422a45d684.html\n",
            "test_coverage.html\n",
            "test_coverage.linecoverage.cpp.464763828084b677ac5e49b5006c91fb.html\n",
            "test_coverage.linecoverage.h.ff8a696285202c7cd96fd71400c85074.html\n",
            "\n",
            "\n",
            "\n",
            "gcovr_report_20211109223212.zip\n",
            "zip the report dir\n",
            "\n",
            "  adding: gcovr_report/ (stored 0%)\n",
            "  adding: gcovr_report/test_coverage.linecoverage.h.ff8a696285202c7cd96fd71400c85074.html (deflated 83%)\n",
            "  adding: gcovr_report/test_coverage.linecoverage.cpp.464763828084b677ac5e49b5006c91fb.html (deflated 83%)\n",
            "  adding: gcovr_report/test_coverage.edgecoverage.cpp.ddfad0876e75c756007eca41217430c2.html (deflated 86%)\n",
            "  adding: gcovr_report/test_coverage.html (deflated 79%)\n",
            "  adding: gcovr_report/test_coverage.edgecoverage.h.97d985dc60d46cb658d11ad34e32c99a.html (deflated 82%)\n",
            "  adding: gcovr_report/test_coverage.css (deflated 76%)\n",
            "  adding: gcovr_report/test_coverage.edgepaircoverage.cpp.bdcc10f206142a0b848cbe422a45d684.html (deflated 84%)\n",
            "\n",
            "\n",
            "\n"
          ]
        }
      ]
    },
    {
      "cell_type": "code",
      "metadata": {
        "id": "-Fb0Ixx2qh0b",
        "colab": {
          "base_uri": "https://localhost:8080/",
          "height": 17
        },
        "outputId": "8bbe597a-101f-4718-90d5-3c6e302c074b"
      },
      "source": [
        "# download the report\n",
        "from google.colab import files\n",
        "files.download(report_filename) "
      ],
      "execution_count": null,
      "outputs": [
        {
          "output_type": "display_data",
          "data": {
            "application/javascript": [
              "\n",
              "    async function download(id, filename, size) {\n",
              "      if (!google.colab.kernel.accessAllowed) {\n",
              "        return;\n",
              "      }\n",
              "      const div = document.createElement('div');\n",
              "      const label = document.createElement('label');\n",
              "      label.textContent = `Downloading \"${filename}\": `;\n",
              "      div.appendChild(label);\n",
              "      const progress = document.createElement('progress');\n",
              "      progress.max = size;\n",
              "      div.appendChild(progress);\n",
              "      document.body.appendChild(div);\n",
              "\n",
              "      const buffers = [];\n",
              "      let downloaded = 0;\n",
              "\n",
              "      const channel = await google.colab.kernel.comms.open(id);\n",
              "      // Send a message to notify the kernel that we're ready.\n",
              "      channel.send({})\n",
              "\n",
              "      for await (const message of channel.messages) {\n",
              "        // Send a message to notify the kernel that we're ready.\n",
              "        channel.send({})\n",
              "        if (message.buffers) {\n",
              "          for (const buffer of message.buffers) {\n",
              "            buffers.push(buffer);\n",
              "            downloaded += buffer.byteLength;\n",
              "            progress.value = downloaded;\n",
              "          }\n",
              "        }\n",
              "      }\n",
              "      const blob = new Blob(buffers, {type: 'application/binary'});\n",
              "      const a = document.createElement('a');\n",
              "      a.href = window.URL.createObjectURL(blob);\n",
              "      a.download = filename;\n",
              "      div.appendChild(a);\n",
              "      a.click();\n",
              "      div.remove();\n",
              "    }\n",
              "  "
            ],
            "text/plain": [
              "<IPython.core.display.Javascript object>"
            ]
          },
          "metadata": {}
        },
        {
          "output_type": "display_data",
          "data": {
            "application/javascript": [
              "download(\"download_7afc1aa7-5a83-43a3-b6b8-3a9323325d03\", \"gcovr_report_20211109223212.zip\", 11090)"
            ],
            "text/plain": [
              "<IPython.core.display.Javascript object>"
            ]
          },
          "metadata": {}
        }
      ]
    }
  ]
}